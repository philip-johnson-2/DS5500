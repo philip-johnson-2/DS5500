{
 "cells": [
  {
   "cell_type": "code",
   "execution_count": 77,
   "metadata": {},
   "outputs": [],
   "source": [
    "import numpy as np\n",
    "import pandas as pd\n",
    "import matplotlib.pyplot as plt\n",
    "import sqlalchemy\n",
    "import psycopg2\n",
    "from sklearn.model_selection import train_test_split\n",
    "from sklearn.linear_model import LogisticRegression\n",
    "from sklearn.feature_selection import SelectKBest, chi2, mutual_info_classif"
   ]
  },
  {
   "cell_type": "code",
   "execution_count": 69,
   "metadata": {},
   "outputs": [],
   "source": [
    "POSTGRES_ADDRESS = 'localhost'\n",
    "POSTGRES_PORT = '5433'\n",
    "POSTGRES_USERNAME = 'nick'\n",
    "POSTGRES_PASSWORD = '00tracker'\n",
    "\n",
    "postgres_str = ('postgresql://{username}:{password}@{ipaddress}:{port}/{dbname}'.format(\n",
    "   username=POSTGRES_USERNAME, \n",
    "    password=POSTGRES_PASSWORD,\n",
    "    ipaddress=POSTGRES_ADDRESS,\n",
    "    port=POSTGRES_PORT,\n",
    "    dbname='project'))\n",
    "# Create the connection\n",
    "cnx = sqlalchemy.create_engine(postgres_str)"
   ]
  },
  {
   "cell_type": "code",
   "execution_count": 95,
   "metadata": {},
   "outputs": [],
   "source": [
    "raw_data = pd.read_sql_query('select * from patient_record order by random() limit 200000', cnx)\n",
    "raw_data.fillna(0, inplace=True)\n",
    "raw_data.drop(columns=[\"as_of_date\", \"patient_id\", \n",
    "                       \"patient_race\", \"patient_language\", \n",
    "                       \"patient_gender\"], inplace=True)"
   ]
  },
  {
   "cell_type": "code",
   "execution_count": 106,
   "metadata": {},
   "outputs": [],
   "source": [
    "train_data, test_data = train_test_split(raw_data, test_size=0.2)\n",
    "\n",
    "# Drop columns with all same values\n",
    "column_sums = train_data.sum(0)\n",
    "dropped_columns = []\n",
    "for i in range(len(column_sums)):\n",
    "    if column_sums[i] == 0:\n",
    "        dropped_columns.append(train_data.columns[i])\n",
    "train_data = train_data.drop(columns=dropped_columns)\n",
    "test_data = test_data.drop(columns=dropped_columns)\n",
    "\n",
    "# standardize data\n",
    "data_mean = train_data.mean()\n",
    "data_std = train_data.std()\n",
    "train_data_norm = (train_data - data_mean) / data_std\n",
    "test_data_norm = (test_data - data_mean) / data_std\n",
    "\n",
    "# Labels\n",
    "train_lab_12mo = train_data[\"fut_admission_12mo\"].values\n",
    "train_lab_6mo = train_data[\"fut_admission_6mo\"].values\n",
    "train_lab_3mo = train_data[\"fut_admission_3mo\"].values\n",
    "train_lab_1mo = train_data[\"fut_admission_1mo\"].values\n",
    "test_lab_12mo = test_data[\"fut_admission_12mo\"].values\n",
    "test_lab_6mo = test_data[\"fut_admission_6mo\"].values\n",
    "test_lab_3mo = test_data[\"fut_admission_3mo\"].values\n",
    "test_lab_1mo = test_data[\"fut_admission_1mo\"].values\n",
    "\n",
    "# Feature Data\n",
    "train_features = train_data.drop(columns=[\n",
    "    \"fut_admission_12mo\",\n",
    "    \"fut_admission_6mo\",\n",
    "    \"fut_admission_3mo\",\n",
    "    \"fut_admission_1mo\"\n",
    "])\n",
    "test_features = test_data.drop(columns=[\n",
    "    \"fut_admission_12mo\",\n",
    "    \"fut_admission_6mo\",\n",
    "    \"fut_admission_3mo\",\n",
    "    \"fut_admission_1mo\"\n",
    "])\n",
    "\n",
    "no_temp_train_features = train_features[\"prev_admission\"].values.reshape(-1, 1)\n",
    "no_temp_test_features = test_features[\"prev_admission\"].values.reshape(-1, 1)\n",
    "temp_train_features = train_features[[\"prev_admission_12mo\", \n",
    "                                     \"prev_admission_6mo\",\n",
    "                                     \"prev_admission_3mo\",\n",
    "                                     \"prev_admission_1mo\"]]\n",
    "temp_test_features = test_features[[\"prev_admission_12mo\", \n",
    "                                     \"prev_admission_6mo\",\n",
    "                                     \"prev_admission_3mo\",\n",
    "                                     \"prev_admission_1mo\"]]"
   ]
  },
  {
   "cell_type": "code",
   "execution_count": 108,
   "metadata": {},
   "outputs": [
    {
     "name": "stdout",
     "output_type": "stream",
     "text": [
      "0.92915\n",
      "0.92915\n"
     ]
    }
   ],
   "source": [
    "# Compare the two models against eachother\n",
    "\n",
    "no_temp_model = LogisticRegression().fit(no_temp_train_features, train_lab_12mo)\n",
    "print(no_temp_model.score(no_temp_test_features, test_lab_12mo))\n",
    "\n",
    "temp_model = LogisticRegression().fit(temp_train_features, train_lab_12mo)\n",
    "print(temp_model.score(temp_test_features, test_lab_12mo))"
   ]
  },
  {
   "cell_type": "code",
   "execution_count": null,
   "metadata": {},
   "outputs": [],
   "source": []
  }
 ],
 "metadata": {
  "kernelspec": {
   "display_name": "Python 3",
   "language": "python",
   "name": "python3"
  },
  "language_info": {
   "codemirror_mode": {
    "name": "ipython",
    "version": 3
   },
   "file_extension": ".py",
   "mimetype": "text/x-python",
   "name": "python",
   "nbconvert_exporter": "python",
   "pygments_lexer": "ipython3",
   "version": "3.6.5"
  }
 },
 "nbformat": 4,
 "nbformat_minor": 2
}
