{
 "cells": [
  {
   "cell_type": "code",
   "execution_count": 137,
   "metadata": {},
   "outputs": [],
   "source": [
    "import numpy as np\n",
    "import pandas as pd\n",
    "import matplotlib.pyplot as plt\n",
    "import sqlalchemy\n",
    "import psycopg2\n",
    "from sklearn.model_selection import train_test_split\n",
    "from sklearn.metrics import confusion_matrix, f1_score, accuracy_score\n",
    "from sklearn.linear_model import LogisticRegression\n",
    "from sklearn.feature_selection import SelectKBest, chi2, mutual_info_classif"
   ]
  },
  {
   "cell_type": "code",
   "execution_count": 69,
   "metadata": {},
   "outputs": [],
   "source": [
    "POSTGRES_ADDRESS = 'localhost'\n",
    "POSTGRES_PORT = '5433'\n",
    "POSTGRES_USERNAME = 'nick'\n",
    "POSTGRES_PASSWORD = ''\n",
    "\n",
    "postgres_str = ('postgresql://{username}:{password}@{ipaddress}:{port}/{dbname}'.format(\n",
    "   username=POSTGRES_USERNAME, \n",
    "    password=POSTGRES_PASSWORD,\n",
    "    ipaddress=POSTGRES_ADDRESS,\n",
    "    port=POSTGRES_PORT,\n",
    "    dbname='project'))\n",
    "# Create the connection\n",
    "cnx = sqlalchemy.create_engine(postgres_str)"
   ]
  },
  {
   "cell_type": "code",
   "execution_count": 95,
   "metadata": {},
   "outputs": [],
   "source": [
    "raw_data = pd.read_sql_query('select * from patient_record order by random() limit 200000', cnx)\n",
    "raw_data.fillna(0, inplace=True)\n",
    "raw_data.drop(columns=[\"as_of_date\", \"patient_id\", \n",
    "                       \"patient_race\", \"patient_language\", \n",
    "                       \"patient_gender\"], inplace=True)"
   ]
  },
  {
   "cell_type": "code",
   "execution_count": 106,
   "metadata": {},
   "outputs": [],
   "source": [
    "train_data, test_data = train_test_split(raw_data, test_size=0.2)\n",
    "\n",
    "# Drop columns with all same values\n",
    "column_sums = train_data.sum(0)\n",
    "dropped_columns = []\n",
    "for i in range(len(column_sums)):\n",
    "    if column_sums[i] == 0:\n",
    "        dropped_columns.append(train_data.columns[i])\n",
    "train_data = train_data.drop(columns=dropped_columns)\n",
    "test_data = test_data.drop(columns=dropped_columns)\n",
    "\n",
    "# standardize data\n",
    "data_mean = train_data.mean()\n",
    "data_std = train_data.std()\n",
    "train_data_norm = (train_data - data_mean) / data_std\n",
    "test_data_norm = (test_data - data_mean) / data_std\n",
    "\n",
    "# Labels\n",
    "train_lab_12mo = train_data[\"fut_admission_12mo\"].values\n",
    "train_lab_6mo = train_data[\"fut_admission_6mo\"].values\n",
    "train_lab_3mo = train_data[\"fut_admission_3mo\"].values\n",
    "train_lab_1mo = train_data[\"fut_admission_1mo\"].values\n",
    "test_lab_12mo = test_data[\"fut_admission_12mo\"].values\n",
    "test_lab_6mo = test_data[\"fut_admission_6mo\"].values\n",
    "test_lab_3mo = test_data[\"fut_admission_3mo\"].values\n",
    "test_lab_1mo = test_data[\"fut_admission_1mo\"].values\n",
    "\n",
    "# Feature Data\n",
    "train_features = train_data.drop(columns=[\n",
    "    \"fut_admission_12mo\",\n",
    "    \"fut_admission_6mo\",\n",
    "    \"fut_admission_3mo\",\n",
    "    \"fut_admission_1mo\"\n",
    "])\n",
    "test_features = test_data.drop(columns=[\n",
    "    \"fut_admission_12mo\",\n",
    "    \"fut_admission_6mo\",\n",
    "    \"fut_admission_3mo\",\n",
    "    \"fut_admission_1mo\"\n",
    "])\n",
    "\n",
    "no_temp_train_features = train_features[\"prev_admission\"].values.reshape(-1, 1)\n",
    "no_temp_test_features = test_features[\"prev_admission\"].values.reshape(-1, 1)\n",
    "temp_train_features = train_features[[\"prev_admission_12mo\", \n",
    "                                     \"prev_admission_6mo\",\n",
    "                                     \"prev_admission_3mo\",\n",
    "                                     \"prev_admission_1mo\"]]\n",
    "temp_test_features = test_features[[\"prev_admission_12mo\", \n",
    "                                     \"prev_admission_6mo\",\n",
    "                                     \"prev_admission_3mo\",\n",
    "                                     \"prev_admission_1mo\"]]"
   ]
  },
  {
   "cell_type": "markdown",
   "metadata": {},
   "source": [
    "## Comparison of Temporal and Non-Temporal Models\n",
    "\n",
    "To isolate the effects of adding a temporal factor to our models, we first built models ignoring the features without temporal component on them and focused in on the previous admission features. We created two basic models:\n",
    "\n",
    "- One model with just the feature \"prev_admission\", the \"non-temporal model\n",
    "- One model with the same feature broken out into 4 features, prev_admission within 12, 6, 3, and 1 month, the \"temporal model\"\n",
    "\n",
    "We created both of these models using a logistic classifier and compared them agains eachother over a range of decision thresholds, using the highest accuracy from each model on a number of response variables, The results are below:"
   ]
  },
  {
   "cell_type": "code",
   "execution_count": 159,
   "metadata": {},
   "outputs": [
    {
     "data": {
      "image/png": "[encoded data removed]",
      "text/plain": [
       "<Figure size 432x288 with 1 Axes>"
      ]
     },
     "metadata": {},
     "output_type": "display_data"
    }
   ],
   "source": [
    "# Compare the two models against eachother\n",
    "\n",
    "labels = [\n",
    "    (\"12 Month Readmission\", train_lab_12mo, test_lab_12mo),\n",
    "    (\"6 Month Readmission\", train_lab_6mo, test_lab_6mo),\n",
    "    (\"3 Month Readmission\", train_lab_3mo, test_lab_3mo),\n",
    "    (\"1 Month Readmission\", train_lab_1mo, test_lab_1mo)\n",
    "]\n",
    "names = [x[0] for x in labels]\n",
    "\n",
    "no_temp_scores = []\n",
    "temp_scores = []\n",
    "for period, train_lab_Xmo, test_lab_Xmo in labels:\n",
    "\n",
    "    no_temp_model = LogisticRegression().fit(no_temp_train_features, train_lab_Xmo)\n",
    "    temp_model = LogisticRegression().fit(temp_train_features, train_lab_Xmo)\n",
    "\n",
    "    max_no_temp_score = 0\n",
    "    max_temp_score = 0\n",
    "    for thresh in [.05, .1, .2, .3]:\n",
    "        no_temp_preds = [1 if x[1] > thresh else 0 for x in no_temp_model.predict_proba(no_temp_test_features)]\n",
    "        no_temp_score = accuracy_score(test_lab_Xmo, no_temp_preds)\n",
    "\n",
    "        temp_preds = [1 if x[1] > thresh else 0 for x in temp_model.predict_proba(temp_test_features)]\n",
    "        temp_score = accuracy_score(test_lab_Xmo, temp_preds)\n",
    "        \n",
    "        max_no_temp_score = max(max_no_temp_score, no_temp_score)\n",
    "        max_temp_score = max(max_temp_score, temp_score)\n",
    "        \n",
    "    no_temp_scores.append(max_no_temp_score),\n",
    "    temp_scores.append(max_temp_score)\n",
    "\n",
    "x = np.arange(len(names))  # the label locations\n",
    "width = 0.35  # the width of the bars\n",
    "\n",
    "fig, ax = plt.subplots()\n",
    "rects1 = ax.bar(x - width/2, no_temp_scores, width, label='Non-Temporal')\n",
    "rects2 = ax.bar(x + width/2, temp_scores, width, label='Temporal')\n",
    "\n",
    "ax.set_ylabel('Accuracy Score')\n",
    "ax.set_xticks(x)\n",
    "ax.set_xticklabels(names)\n",
    "ax.legend()\n",
    "fig.tight_layout()\n",
    "plt.xticks(rotation=45)\n",
    "plt.ylim((.8, 1))\n",
    "plt.show()\n",
    "        "
   ]
  },
  {
   "cell_type": "code",
   "execution_count": null,
   "metadata": {},
   "outputs": [],
   "source": []
  }
 ],
 "metadata": {
  "kernelspec": {
   "display_name": "Python 3",
   "language": "python",
   "name": "python3"
  },
  "language_info": {
   "codemirror_mode": {
    "name": "ipython",
    "version": 3
   },
   "file_extension": ".py",
   "mimetype": "text/x-python",
   "name": "python",
   "nbconvert_exporter": "python",
   "pygments_lexer": "ipython3",
   "version": "3.6.5"
  }
 },
 "nbformat": 4,
 "nbformat_minor": 2
}
